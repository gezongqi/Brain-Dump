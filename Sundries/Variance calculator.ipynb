{
 "cells": [
  {
   "cell_type": "code",
   "id": "initial_id",
   "metadata": {
    "collapsed": true,
    "ExecuteTime": {
     "end_time": "2025-10-03T14:50:00.723227Z",
     "start_time": "2025-10-03T14:49:53.810752Z"
    }
   },
   "source": [
    "line = input(\"Enter the data points : \")\n",
    "date = list(map(int, line.split()))\n",
    "s = sum(date)\n",
    "mean = s / len(date)\n",
    "t = []\n",
    "for i in date:\n",
    "    t.append((i - mean) ** 2)\n",
    "variance = sum(t) / len(date)\n",
    "print(\"mean : \", mean)\n",
    "print(\"Variance : \", variance)"
   ],
   "outputs": [
    {
     "name": "stdout",
     "output_type": "stream",
     "text": [
      "mean :  2.0\n",
      "Variance :  0.6666666666666666\n"
     ]
    }
   ],
   "execution_count": 2
  }
 ],
 "metadata": {
  "kernelspec": {
   "display_name": "Python 3",
   "language": "python",
   "name": "python3"
  },
  "language_info": {
   "codemirror_mode": {
    "name": "ipython",
    "version": 2
   },
   "file_extension": ".py",
   "mimetype": "text/x-python",
   "name": "python",
   "nbconvert_exporter": "python",
   "pygments_lexer": "ipython2",
   "version": "2.7.6"
  }
 },
 "nbformat": 4,
 "nbformat_minor": 5
}
