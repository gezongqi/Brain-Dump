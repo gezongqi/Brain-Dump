{
 "cells": [
  {
   "cell_type": "code",
   "id": "initial_id",
   "metadata": {
    "collapsed": true,
    "ExecuteTime": {
     "end_time": "2025-10-01T14:08:05.597681Z",
     "start_time": "2025-10-01T14:08:05.496829Z"
    }
   },
   "source": "import numpy as np",
   "outputs": [],
   "execution_count": 1
  },
  {
   "metadata": {
    "ExecuteTime": {
     "end_time": "2025-10-01T14:16:45.645621Z",
     "start_time": "2025-10-01T14:16:45.632746Z"
    }
   },
   "cell_type": "code",
   "source": [
    "def Gram(date):\n",
    "    G = np.zeros((len(date), len(date)))\n",
    "    for i in range(len(date)):\n",
    "        for j in range(len(date)):\n",
    "            G[i][j] = np.dot(date[i], date[j])\n",
    "    return G"
   ],
   "id": "c147dc72d4c84477",
   "outputs": [],
   "execution_count": 2
  },
  {
   "metadata": {},
   "cell_type": "code",
   "outputs": [],
   "execution_count": null,
   "source": [
    "# class perceptorn:\n",
    "#     def __init__(self):"
   ],
   "id": "bccd8affc81093a5"
  }
 ],
 "metadata": {
  "kernelspec": {
   "display_name": "Python 3",
   "language": "python",
   "name": "python3"
  },
  "language_info": {
   "codemirror_mode": {
    "name": "ipython",
    "version": 2
   },
   "file_extension": ".py",
   "mimetype": "text/x-python",
   "name": "python",
   "nbconvert_exporter": "python",
   "pygments_lexer": "ipython2",
   "version": "2.7.6"
  }
 },
 "nbformat": 4,
 "nbformat_minor": 5
}
